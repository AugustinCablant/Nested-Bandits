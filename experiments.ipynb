{
 "cells": [
  {
   "cell_type": "code",
   "execution_count": 1,
   "id": "e62292b2",
   "metadata": {},
   "outputs": [],
   "source": [
    "from src.utils.utils import get_algo_by_name, get_env_by_name\n",
    "from src.utils.save_results import get_task_name, get_metrics_information, get_results_file_name\n",
    "import numpy as np\n",
    "import time\n",
    "import os\n",
    "from datetime import date\n",
    "from tqdm import tqdm\n",
    "from tqdm.notebook import trange, tqdm\n",
    "today = date.today()\n",
    "import matplotlib.pyplot as plt\n",
    "# import seaborn as sns; sns.set()\n",
    "\n",
    "def do_single_experiment(rd, settings):\n",
    "    env = get_env_by_name(settings)\n",
    "    env.set()\n",
    "    agent = get_algo_by_name(settings)\n",
    "    agent.set_environment(env)\n",
    "    metrics = agent.iterate_learning()\n",
    "    return metrics"
   ]
  },
  {
   "cell_type": "code",
   "execution_count": 2,
   "id": "56b92f5f",
   "metadata": {},
   "outputs": [],
   "source": [
    "nb_rds = 20\n",
    "max_rounds = 1000\n",
    "nb_levels = 2\n",
    "\n",
    "def do_paradox_experiment(nb_childs):\n",
    "\n",
    "    exp3_regrets = np.zeros((nb_rds, int(max_rounds/100)))\n",
    "    exp3_rewards = np.zeros((nb_rds, int(max_rounds/100)))\n",
    "    new_regrets = np.zeros((nb_rds, int(max_rounds/100)))\n",
    "    new_rewards = np.zeros((nb_rds, int(max_rounds/100)))\n",
    "    nexp3_regrets = np.zeros((nb_rds, int(max_rounds/100)))\n",
    "    nexp3_rewards = np.zeros((nb_rds, int(max_rounds/100)))\n",
    "\n",
    "    for rd in range(nb_rds):\n",
    "        settings = {\n",
    "            'rd': rd,\n",
    "            'max_rounds': max_rounds,\n",
    "            'nb_leaves_per_class': nb_childs,\n",
    "            'nb_levels': nb_levels,\n",
    "            'env': 'paradox',\n",
    "            'algo': 'exp3',\n",
    "        }\n",
    "        metrics = do_single_experiment(rd, settings)\n",
    "        rounds = metrics['round']\n",
    "        exp3_regrets[rd] = metrics['regret']\n",
    "        exp3_rewards[rd] = metrics['reward']\n",
    "\n",
    "        settings['algo'] = 'new'\n",
    "        metrics = do_single_experiment(rd, settings)\n",
    "        rounds = metrics['round']\n",
    "        new_regrets[rd] = metrics['regret']\n",
    "        new_rewards[rd] = metrics['reward']\n",
    "        \n",
    "        settings['algo'] = 'nexp3'\n",
    "        metrics = do_single_experiment(rd, settings)\n",
    "        rounds = metrics['round']\n",
    "        nexp3_regrets[rd] = metrics['regret']\n",
    "        nexp3_rewards[rd] = metrics['reward']\n",
    "\n",
    "    # EXP3\n",
    "    exp3_rgrt_std = np.std(exp3_regrets, axis=0)\n",
    "    exp3_rwd_std = np.std(exp3_rewards, axis=0)\n",
    "    exp3_regret = np.mean(exp3_regrets, axis=0)\n",
    "    exp3_reward = np.mean(exp3_rewards, axis=0)\n",
    "    \n",
    "    exp3_result = (exp3_regret, exp3_rgrt_std, exp3_reward, exp3_rwd_std)\n",
    "\n",
    "    # NEW\n",
    "    new_rgrt_std = np.std(new_regrets, axis=0)\n",
    "    new_rwd_std = np.std(new_rewards, axis=0)\n",
    "    new_regret = np.mean(new_regrets, axis=0) \n",
    "    new_reward = np.mean(new_rewards, axis=0)\n",
    "    \n",
    "    new_result = (new_regret, new_rgrt_std, new_reward, new_rwd_std)\n",
    "\n",
    "    # NEXP3\n",
    "    nexp3_rgrt_std = np.std(nexp3_regrets, axis=0)\n",
    "    nexp3_rwd_std = np.std(nexp3_rewards, axis=0)\n",
    "    nexp3_regret = np.mean(nexp3_regrets, axis=0) \n",
    "    nexp3_reward = np.mean(nexp3_rewards, axis=0)\n",
    "    \n",
    "    nexp3_result = (nexp3_regret, nexp3_rgrt_std, nexp3_reward, nexp3_rwd_std)\n",
    "    \n",
    "    return exp3_result, new_result, nexp3_result, list(np.array(exp3_regrets)[:,-1]), list(np.array(new_regrets)[:,-1]), list(np.array(nexp3_regrets)[:,-1])"
   ]
  },
  {
   "cell_type": "code",
   "execution_count": 3,
   "id": "24884c02",
   "metadata": {},
   "outputs": [
    {
     "data": {
      "application/vnd.jupyter.widget-view+json": {
       "model_id": "f83b30fc0a364b2a884828d54d10d402",
       "version_major": 2,
       "version_minor": 0
      },
      "text/plain": [
       "  0%|          | 0/4 [00:00<?, ?it/s]"
      ]
     },
     "metadata": {},
     "output_type": "display_data"
    },
    {
     "name": "stderr",
     "output_type": "stream",
     "text": [
      "100%|██████████| 1000/1000 [00:00<00:00, 8968.13it/s]\n",
      "100%|██████████| 1000/1000 [00:00<00:00, 12156.73it/s]\n",
      "100%|██████████| 1000/1000 [00:00<00:00, 10438.63it/s]\n",
      "100%|██████████| 1000/1000 [00:00<00:00, 12275.50it/s]\n",
      "100%|██████████| 1000/1000 [00:00<00:00, 13152.37it/s]\n",
      "100%|██████████| 1000/1000 [00:00<00:00, 11659.65it/s]\n",
      "100%|██████████| 1000/1000 [00:00<00:00, 13710.64it/s]\n",
      "100%|██████████| 1000/1000 [00:00<00:00, 12619.23it/s]\n",
      "100%|██████████| 1000/1000 [00:00<00:00, 10733.63it/s]\n",
      "100%|██████████| 1000/1000 [00:00<00:00, 11778.54it/s]\n",
      "100%|██████████| 1000/1000 [00:00<00:00, 12816.23it/s]\n",
      "100%|██████████| 1000/1000 [00:00<00:00, 10875.26it/s]\n",
      "100%|██████████| 1000/1000 [00:00<00:00, 12729.30it/s]\n",
      "100%|██████████| 1000/1000 [00:00<00:00, 10832.34it/s]\n",
      "100%|██████████| 1000/1000 [00:00<00:00, 9835.00it/s]\n",
      "100%|██████████| 1000/1000 [00:00<00:00, 12718.61it/s]\n",
      "100%|██████████| 1000/1000 [00:00<00:00, 12380.25it/s]\n",
      "100%|██████████| 1000/1000 [00:00<00:00, 10960.83it/s]\n",
      "100%|██████████| 1000/1000 [00:00<00:00, 11144.54it/s]\n",
      "100%|██████████| 1000/1000 [00:00<00:00, 9779.10it/s]\n",
      "100%|██████████| 1000/1000 [00:00<00:00, 11484.48it/s]\n",
      "100%|██████████| 1000/1000 [00:00<00:00, 12323.47it/s]\n",
      "100%|██████████| 1000/1000 [00:00<00:00, 11937.61it/s]\n",
      "100%|██████████| 1000/1000 [00:00<00:00, 10577.63it/s]\n",
      "100%|██████████| 1000/1000 [00:00<00:00, 12795.08it/s]\n",
      "100%|██████████| 1000/1000 [00:00<00:00, 12117.99it/s]\n",
      "100%|██████████| 1000/1000 [00:00<00:00, 10771.92it/s]\n",
      "100%|██████████| 1000/1000 [00:00<00:00, 11890.50it/s]\n",
      "100%|██████████| 1000/1000 [00:00<00:00, 12935.12it/s]\n",
      "100%|██████████| 1000/1000 [00:00<00:00, 10074.76it/s]\n",
      "100%|██████████| 1000/1000 [00:00<00:00, 11287.45it/s]\n",
      "100%|██████████| 1000/1000 [00:00<00:00, 10719.39it/s]\n",
      "100%|██████████| 1000/1000 [00:00<00:00, 9428.90it/s]\n",
      "100%|██████████| 1000/1000 [00:00<00:00, 10963.58it/s]\n",
      "100%|██████████| 1000/1000 [00:00<00:00, 12752.79it/s]\n",
      "100%|██████████| 1000/1000 [00:00<00:00, 10098.58it/s]\n",
      "100%|██████████| 1000/1000 [00:00<00:00, 11915.40it/s]\n",
      "100%|██████████| 1000/1000 [00:00<00:00, 10752.92it/s]\n",
      "100%|██████████| 1000/1000 [00:00<00:00, 8281.17it/s]\n",
      "100%|██████████| 1000/1000 [00:00<00:00, 12842.41it/s]\n",
      "100%|██████████| 1000/1000 [00:00<00:00, 11796.37it/s]\n",
      "100%|██████████| 1000/1000 [00:00<00:00, 9548.63it/s]\n",
      "100%|██████████| 1000/1000 [00:00<00:00, 13272.99it/s]\n",
      "100%|██████████| 1000/1000 [00:00<00:00, 12802.27it/s]\n",
      "100%|██████████| 1000/1000 [00:00<00:00, 10288.81it/s]\n",
      "100%|██████████| 1000/1000 [00:00<00:00, 12022.68it/s]\n",
      "100%|██████████| 1000/1000 [00:00<00:00, 11813.04it/s]\n",
      "100%|██████████| 1000/1000 [00:00<00:00, 7792.95it/s]\n",
      "100%|██████████| 1000/1000 [00:00<00:00, 11931.87it/s]\n",
      "100%|██████████| 1000/1000 [00:00<00:00, 10806.47it/s]\n",
      "100%|██████████| 1000/1000 [00:00<00:00, 10137.14it/s]\n",
      "100%|██████████| 1000/1000 [00:00<00:00, 11881.85it/s]\n",
      "100%|██████████| 1000/1000 [00:00<00:00, 12352.43it/s]\n",
      "100%|██████████| 1000/1000 [00:00<00:00, 9644.58it/s]\n",
      "100%|██████████| 1000/1000 [00:00<00:00, 12033.99it/s]\n",
      "100%|██████████| 1000/1000 [00:00<00:00, 9115.44it/s]\n",
      "100%|██████████| 1000/1000 [00:00<00:00, 10853.28it/s]\n",
      "100%|██████████| 1000/1000 [00:00<00:00, 13526.13it/s]\n",
      "100%|██████████| 1000/1000 [00:00<00:00, 14820.71it/s]\n",
      "100%|██████████| 1000/1000 [00:00<00:00, 10844.22it/s]\n",
      "100%|██████████| 1000/1000 [00:00<00:00, 13291.54it/s]\n",
      "100%|██████████| 1000/1000 [00:00<00:00, 12111.38it/s]\n",
      "100%|██████████| 1000/1000 [00:00<00:00, 10783.19it/s]\n",
      "100%|██████████| 1000/1000 [00:00<00:00, 13181.72it/s]\n",
      "100%|██████████| 1000/1000 [00:00<00:00, 12892.74it/s]\n",
      "100%|██████████| 1000/1000 [00:00<00:00, 10426.64it/s]\n",
      "100%|██████████| 1000/1000 [00:00<00:00, 12734.21it/s]\n",
      "100%|██████████| 1000/1000 [00:00<00:00, 11802.17it/s]\n",
      "100%|██████████| 1000/1000 [00:00<00:00, 9795.54it/s]\n",
      "100%|██████████| 1000/1000 [00:00<00:00, 13016.45it/s]\n",
      "100%|██████████| 1000/1000 [00:00<00:00, 12509.41it/s]\n",
      "100%|██████████| 1000/1000 [00:00<00:00, 10915.62it/s]\n",
      "100%|██████████| 1000/1000 [00:00<00:00, 12093.95it/s]\n",
      "100%|██████████| 1000/1000 [00:00<00:00, 11511.33it/s]\n",
      "100%|██████████| 1000/1000 [00:00<00:00, 8614.16it/s]\n",
      "100%|██████████| 1000/1000 [00:00<00:00, 12764.36it/s]\n",
      "100%|██████████| 1000/1000 [00:00<00:00, 11489.76it/s]\n",
      "100%|██████████| 1000/1000 [00:00<00:00, 10854.80it/s]\n",
      "100%|██████████| 1000/1000 [00:00<00:00, 11739.15it/s]\n",
      "100%|██████████| 1000/1000 [00:00<00:00, 10658.02it/s]\n",
      "100%|██████████| 1000/1000 [00:00<00:00, 9851.82it/s]\n",
      "100%|██████████| 1000/1000 [00:00<00:00, 12639.65it/s]\n",
      "100%|██████████| 1000/1000 [00:00<00:00, 11042.64it/s]\n",
      "100%|██████████| 1000/1000 [00:00<00:00, 9615.73it/s]\n",
      "100%|██████████| 1000/1000 [00:00<00:00, 13476.02it/s]\n",
      "100%|██████████| 1000/1000 [00:00<00:00, 12725.28it/s]\n",
      "100%|██████████| 1000/1000 [00:00<00:00, 9401.51it/s]\n",
      "100%|██████████| 1000/1000 [00:00<00:00, 12064.04it/s]\n",
      "100%|██████████| 1000/1000 [00:00<00:00, 13137.66it/s]\n",
      "100%|██████████| 1000/1000 [00:00<00:00, 10142.19it/s]\n",
      "100%|██████████| 1000/1000 [00:00<00:00, 12741.48it/s]\n",
      "100%|██████████| 1000/1000 [00:00<00:00, 8739.74it/s]\n",
      "100%|██████████| 1000/1000 [00:00<00:00, 11280.92it/s]\n",
      "100%|██████████| 1000/1000 [00:00<00:00, 12663.35it/s]\n",
      "100%|██████████| 1000/1000 [00:00<00:00, 13170.05it/s]\n",
      "100%|██████████| 1000/1000 [00:00<00:00, 9991.93it/s]\n",
      "100%|██████████| 1000/1000 [00:00<00:00, 16639.77it/s]\n",
      "100%|██████████| 1000/1000 [00:00<00:00, 20828.12it/s]\n",
      "100%|██████████| 1000/1000 [00:00<00:00, 17909.53it/s]\n",
      "100%|██████████| 1000/1000 [00:00<00:00, 21032.30it/s]\n",
      "100%|██████████| 1000/1000 [00:00<00:00, 21543.39it/s]\n",
      "100%|██████████| 1000/1000 [00:00<00:00, 20827.19it/s]\n",
      "100%|██████████| 1000/1000 [00:00<00:00, 28449.46it/s]\n",
      "100%|██████████| 1000/1000 [00:00<00:00, 29993.16it/s]\n",
      "100%|██████████| 1000/1000 [00:00<00:00, 19893.02it/s]\n",
      "100%|██████████| 1000/1000 [00:00<00:00, 29813.23it/s]\n",
      "100%|██████████| 1000/1000 [00:00<00:00, 30443.36it/s]\n",
      "100%|██████████| 1000/1000 [00:00<00:00, 22523.50it/s]\n",
      "100%|██████████| 1000/1000 [00:00<00:00, 32219.76it/s]\n",
      "100%|██████████| 1000/1000 [00:00<00:00, 15208.93it/s]\n",
      "100%|██████████| 1000/1000 [00:00<00:00, 21245.05it/s]\n",
      "100%|██████████| 1000/1000 [00:00<00:00, 25082.85it/s]\n",
      "100%|██████████| 1000/1000 [00:00<00:00, 28534.04it/s]\n",
      "100%|██████████| 1000/1000 [00:00<00:00, 22120.11it/s]\n",
      "100%|██████████| 1000/1000 [00:00<00:00, 31356.94it/s]\n",
      "100%|██████████| 1000/1000 [00:00<00:00, 29318.70it/s]\n",
      "100%|██████████| 1000/1000 [00:00<00:00, 19722.31it/s]\n",
      "100%|██████████| 1000/1000 [00:00<00:00, 23397.75it/s]\n",
      "100%|██████████| 1000/1000 [00:00<00:00, 25370.36it/s]\n",
      "100%|██████████| 1000/1000 [00:00<00:00, 19634.51it/s]\n",
      "100%|██████████| 1000/1000 [00:00<00:00, 25768.44it/s]\n",
      "100%|██████████| 1000/1000 [00:00<00:00, 24347.55it/s]\n",
      "100%|██████████| 1000/1000 [00:00<00:00, 19595.16it/s]\n",
      "100%|██████████| 1000/1000 [00:00<00:00, 27421.46it/s]\n",
      "100%|██████████| 1000/1000 [00:00<00:00, 26513.17it/s]\n",
      "100%|██████████| 1000/1000 [00:00<00:00, 19618.99it/s]\n",
      "100%|██████████| 1000/1000 [00:00<00:00, 26345.80it/s]\n",
      "100%|██████████| 1000/1000 [00:00<00:00, 15177.73it/s]\n",
      "100%|██████████| 1000/1000 [00:00<00:00, 19653.37it/s]\n",
      "100%|██████████| 1000/1000 [00:00<00:00, 26292.29it/s]\n",
      "100%|██████████| 1000/1000 [00:00<00:00, 26243.10it/s]\n",
      "100%|██████████| 1000/1000 [00:00<00:00, 19830.29it/s]\n",
      "100%|██████████| 1000/1000 [00:00<00:00, 27415.19it/s]\n",
      "100%|██████████| 1000/1000 [00:00<00:00, 24222.41it/s]\n",
      "100%|██████████| 1000/1000 [00:00<00:00, 19935.85it/s]\n",
      "100%|██████████| 1000/1000 [00:00<00:00, 26322.65it/s]\n",
      "100%|██████████| 1000/1000 [00:00<00:00, 24370.04it/s]\n",
      "100%|██████████| 1000/1000 [00:00<00:00, 19897.27it/s]\n",
      "100%|██████████| 1000/1000 [00:00<00:00, 26268.09it/s]\n",
      "100%|██████████| 1000/1000 [00:00<00:00, 24224.23it/s]\n",
      "100%|██████████| 1000/1000 [00:00<00:00, 19560.61it/s]\n",
      "100%|██████████| 1000/1000 [00:00<00:00, 26373.96it/s]\n",
      "100%|██████████| 1000/1000 [00:00<00:00, 25084.05it/s]\n",
      "100%|██████████| 1000/1000 [00:00<00:00, 19688.61it/s]\n",
      "100%|██████████| 1000/1000 [00:00<00:00, 27274.88it/s]\n",
      "100%|██████████| 1000/1000 [00:00<00:00, 25716.78it/s]\n",
      "100%|██████████| 1000/1000 [00:00<00:00, 12711.98it/s]\n",
      "100%|██████████| 1000/1000 [00:00<00:00, 26752.97it/s]\n",
      "100%|██████████| 1000/1000 [00:00<00:00, 26978.22it/s]\n",
      "100%|██████████| 1000/1000 [00:00<00:00, 19618.16it/s]\n",
      "100%|██████████| 1000/1000 [00:00<00:00, 25517.92it/s]\n",
      "100%|██████████| 1000/1000 [00:00<00:00, 23934.08it/s]\n",
      "100%|██████████| 1000/1000 [00:00<00:00, 19561.80it/s]\n",
      "100%|██████████| 1000/1000 [00:00<00:00, 27406.94it/s]\n",
      "100%|██████████| 1000/1000 [00:00<00:00, 27704.74it/s]\n",
      "100%|██████████| 1000/1000 [00:00<00:00, 19528.65it/s]\n",
      "100%|██████████| 1000/1000 [00:00<00:00, 27016.80it/s]\n",
      "100%|██████████| 1000/1000 [00:00<00:00, 23092.95it/s]\n",
      "100%|██████████| 1000/1000 [00:00<00:00, 20193.95it/s]\n",
      "100%|██████████| 1000/1000 [00:00<00:00, 27591.56it/s]\n",
      "100%|██████████| 1000/1000 [00:00<00:00, 24864.42it/s]\n",
      "100%|██████████| 1000/1000 [00:00<00:00, 19517.83it/s]\n",
      "100%|██████████| 1000/1000 [00:00<00:00, 23721.96it/s]\n",
      "100%|██████████| 1000/1000 [00:00<00:00, 17260.16it/s]\n",
      "100%|██████████| 1000/1000 [00:00<00:00, 10276.50it/s]\n",
      "100%|██████████| 1000/1000 [00:00<00:00, 11928.07it/s]\n",
      "100%|██████████| 1000/1000 [00:00<00:00, 14254.17it/s]\n",
      "100%|██████████| 1000/1000 [00:00<00:00, 9732.53it/s]\n",
      "100%|██████████| 1000/1000 [00:00<00:00, 12531.94it/s]\n",
      "100%|██████████| 1000/1000 [00:00<00:00, 11742.34it/s]\n",
      "100%|██████████| 1000/1000 [00:00<00:00, 10398.23it/s]\n",
      "100%|██████████| 1000/1000 [00:00<00:00, 11660.72it/s]\n",
      "100%|██████████| 1000/1000 [00:00<00:00, 11337.86it/s]\n",
      "100%|██████████| 1000/1000 [00:00<00:00, 9811.15it/s]\n",
      "100%|██████████| 1000/1000 [00:00<00:00, 12213.44it/s]\n",
      "100%|██████████| 1000/1000 [00:00<00:00, 11723.89it/s]\n",
      "100%|██████████| 1000/1000 [00:00<00:00, 9683.37it/s]\n",
      "100%|██████████| 1000/1000 [00:00<00:00, 11330.02it/s]\n",
      "100%|██████████| 1000/1000 [00:00<00:00, 12240.25it/s]\n",
      "100%|██████████| 1000/1000 [00:00<00:00, 9221.53it/s]\n",
      "100%|██████████| 1000/1000 [00:00<00:00, 11447.27it/s]\n",
      "100%|██████████| 1000/1000 [00:00<00:00, 12874.14it/s]\n",
      "100%|██████████| 1000/1000 [00:00<00:00, 8727.08it/s]\n",
      "100%|██████████| 1000/1000 [00:00<00:00, 12674.75it/s]\n",
      "100%|██████████| 1000/1000 [00:00<00:00, 13266.14it/s]\n",
      "100%|██████████| 1000/1000 [00:00<00:00, 8553.36it/s]\n",
      "100%|██████████| 1000/1000 [00:00<00:00, 11909.72it/s]\n",
      "100%|██████████| 1000/1000 [00:00<00:00, 12595.92it/s]\n",
      "100%|██████████| 1000/1000 [00:00<00:00, 8067.75it/s]\n",
      "100%|██████████| 1000/1000 [00:00<00:00, 12582.85it/s]\n",
      "100%|██████████| 1000/1000 [00:00<00:00, 12580.36it/s]\n",
      "100%|██████████| 1000/1000 [00:00<00:00, 8378.94it/s]\n",
      "100%|██████████| 1000/1000 [00:00<00:00, 11734.75it/s]\n",
      "100%|██████████| 1000/1000 [00:00<00:00, 10917.61it/s]\n",
      "100%|██████████| 1000/1000 [00:00<00:00, 8480.81it/s]\n",
      "100%|██████████| 1000/1000 [00:00<00:00, 9053.32it/s]\n",
      "100%|██████████| 1000/1000 [00:00<00:00, 11621.31it/s]\n",
      "100%|██████████| 1000/1000 [00:00<00:00, 8620.69it/s]\n",
      "100%|██████████| 1000/1000 [00:00<00:00, 12380.98it/s]\n",
      "100%|██████████| 1000/1000 [00:00<00:00, 11240.11it/s]\n",
      "100%|██████████| 1000/1000 [00:00<00:00, 9086.05it/s]\n",
      "100%|██████████| 1000/1000 [00:00<00:00, 13038.83it/s]\n",
      "100%|██████████| 1000/1000 [00:00<00:00, 12727.52it/s]\n",
      "100%|██████████| 1000/1000 [00:00<00:00, 7844.48it/s]\n",
      "100%|██████████| 1000/1000 [00:00<00:00, 11827.90it/s]\n",
      "100%|██████████| 1000/1000 [00:00<00:00, 12400.45it/s]\n",
      "100%|██████████| 1000/1000 [00:00<00:00, 8264.61it/s]\n",
      "100%|██████████| 1000/1000 [00:00<00:00, 12194.55it/s]\n",
      "100%|██████████| 1000/1000 [00:00<00:00, 9362.87it/s]\n",
      "100%|██████████| 1000/1000 [00:00<00:00, 9444.91it/s]\n",
      "100%|██████████| 1000/1000 [00:00<00:00, 11000.73it/s]\n",
      "100%|██████████| 1000/1000 [00:00<00:00, 12000.15it/s]\n",
      "100%|██████████| 1000/1000 [00:00<00:00, 9930.78it/s]\n",
      "100%|██████████| 1000/1000 [00:00<00:00, 12662.05it/s]\n",
      "100%|██████████| 1000/1000 [00:00<00:00, 13347.88it/s]\n",
      "100%|██████████| 1000/1000 [00:00<00:00, 8399.28it/s]\n",
      "100%|██████████| 1000/1000 [00:00<00:00, 12856.10it/s]\n",
      "100%|██████████| 1000/1000 [00:00<00:00, 9737.78it/s]\n",
      "100%|██████████| 1000/1000 [00:00<00:00, 7792.09it/s]\n",
      "100%|██████████| 1000/1000 [00:00<00:00, 12217.04it/s]\n",
      "100%|██████████| 1000/1000 [00:00<00:00, 11228.77it/s]\n",
      "100%|██████████| 1000/1000 [00:00<00:00, 8293.74it/s]\n",
      "100%|██████████| 1000/1000 [00:00<00:00, 9349.26it/s]\n",
      "100%|██████████| 1000/1000 [00:00<00:00, 12561.37it/s]\n",
      "100%|██████████| 1000/1000 [00:00<00:00, 8260.59it/s]\n",
      "100%|██████████| 1000/1000 [00:00<00:00, 11913.40it/s]\n",
      "100%|██████████| 1000/1000 [00:00<00:00, 11505.49it/s]\n",
      "100%|██████████| 1000/1000 [00:00<00:00, 7878.55it/s]\n",
      "100%|██████████| 1000/1000 [00:00<00:00, 11502.34it/s]\n",
      "100%|██████████| 1000/1000 [00:00<00:00, 11382.66it/s]\n",
      "100%|██████████| 1000/1000 [00:00<00:00, 8313.85it/s]\n",
      "100%|██████████| 1000/1000 [00:00<00:00, 12360.18it/s]\n",
      "100%|██████████| 1000/1000 [00:00<00:00, 12301.49it/s]\n",
      "100%|██████████| 1000/1000 [00:00<00:00, 8375.21it/s]\n",
      "100%|██████████| 1000/1000 [00:00<00:00, 11685.97it/s]\n",
      "100%|██████████| 1000/1000 [00:00<00:00, 8675.22it/s]\n",
      "100%|██████████| 1000/1000 [00:00<00:00, 9257.19it/s]\n",
      "100%|██████████| 1000/1000 [00:00<00:00, 11700.96it/s]\n",
      "100%|██████████| 1000/1000 [00:00<00:00, 12496.70it/s]\n",
      "100%|██████████| 1000/1000 [00:00<00:00, 8345.56it/s]\n"
     ]
    }
   ],
   "source": [
    "nb_childs = [2, 5, 10, 50]\n",
    "res_new = []\n",
    "res_nexp3 = []\n",
    "res_exp3 = []\n",
    "res=[]\n",
    "labels=[]\n",
    "exp3_results = []\n",
    "nexp3_results = []\n",
    "new_results = []\n",
    "\n",
    "for nb_child in tqdm(nb_childs):\n",
    "    a,b,c,d,e,f = do_paradox_experiment(nb_child)\n",
    "    res_exp3.append(list(d))\n",
    "    res_new.append(e)\n",
    "    res_nexp3.append(f)\n",
    "    res.append(d)\n",
    "    res.append(e)\n",
    "    res.append(f)\n",
    "    labels.append('EXP3 - N {}'.format(nb_child))\n",
    "    labels.append('NEW - N {}'.format(nb_child))\n",
    "    labels.append('Nexp3 - N {}'.format(nb_child))\n",
    "    exp3_results.append(a)\n",
    "    nexp3_results.append(b)\n",
    "    new_results.append(c)"
   ]
  },
  {
   "cell_type": "code",
   "execution_count": 4,
   "id": "eac8b534",
   "metadata": {},
   "outputs": [
    {
     "data": {
      "image/png": "[encoded data removed]",
      "text/plain": [
       "<Figure size 2000x800 with 1 Axes>"
      ]
     },
     "metadata": {},
     "output_type": "display_data"
    }
   ],
   "source": [
    "plt.figure(figsize=(20,8))\n",
    "plt.boxplot(res, labels=labels)\n",
    "plt.ylabel('Regret')\n",
    "plt.title('Env - Red Bus/Blue Bus Paradox - Final Regret CIs at $T=1000$')\n",
    "\n",
    "plt.savefig('figure_bbrb_regret_slice.pdf', bbox_inches = \"tight\")\n",
    "plt.show()"
   ]
  },
  {
   "cell_type": "code",
   "execution_count": null,
   "id": "c56a66aa",
   "metadata": {},
   "outputs": [
    {
     "data": {
      "image/png": "[encoded data removed]",
      "text/plain": [
       "<Figure size 900x400 with 1 Axes>"
      ]
     },
     "metadata": {},
     "output_type": "display_data"
    },
    {
     "data": {
      "image/png": "[encoded data removed]",
      "text/plain": [
       "<Figure size 900x400 with 1 Axes>"
      ]
     },
     "metadata": {},
     "output_type": "display_data"
    }
   ],
   "source": [
    "rounds = np.arange(1, max_rounds+1, 100)\n",
    "\n",
    "#COLORS\n",
    "colors_exp3 = ['lightsteelblue', 'cornflowerblue', 'royalblue', '#1f77b4']\n",
    "colors_new = ['lightgreen', 'limegreen', 'forestgreen', 'darkgreen']\n",
    "colors_nexp3 = ['#ff7f0e', 'tomato', 'peru', 'gold']\n",
    "\n",
    "#PARAMETERS\n",
    "nb_childs = [2, 5, 10, 50]\n",
    "markers = [\"1\", \"2\", \"3\", \"4\"]\n",
    "# markers = [\"*\", \"+\", \".\", \"v\"]\n",
    "\n",
    "#FIGURE\n",
    "plt.figure(figsize=(9,4), dpi= 100, facecolor='w', edgecolor='k')\n",
    "#EXP3\n",
    "for idx, exp3_result in enumerate(exp3_results):\n",
    "    c = colors_new[idx]\n",
    "    exp3_regret, exp3_rgrt_std, exp3_reward, exp3_rwd_std = exp3_result\n",
    "    plt.plot(rounds, exp3_regret, label='EXP3 - N {}'.format(nb_childs[idx]), color=c, linestyle='-', \n",
    "             marker=markers[idx] , markersize=12 ,markevery=0.1)\n",
    "# plt.plot(rounds, .5*rounds**(0.5), label='$t^{0.5}$', linestyle='-.')\n",
    "\n",
    "#NEW    \n",
    "for idx, new_result in enumerate(new_results):\n",
    "    c = colors_new[idx]\n",
    "    new_regret, new_rgrt_std, new_reward, new_rwd_std = new_result\n",
    "    plt.plot(rounds, new_regret, label='NEW - N {}'.format(nb_childs[idx]), color=c, linestyle='--', \n",
    "             marker=markers[idx] , markersize=12 ,markevery=0.1)\n",
    "\n",
    "#NEXP3    \n",
    "for idx, nexp3_result in enumerate(nexp3_results):\n",
    "    # new\n",
    "    c = colors_nexp3[idx]\n",
    "    nexp3_regret, nexp3_rgrt_std, nexp3_reward, nexp3_rwd_std = nexp3_result\n",
    "    plt.plot(rounds, nexp3_regret, label='NEXP3 - N {}'.format(nb_childs[idx]), color=c, linestyle='--', \n",
    "             marker=markers[idx] , markersize=12 ,markevery=0.1)\n",
    "# plt.plot(rounds, .05*rounds**(1), label='$t^{1}$', linestyle='-.')\n",
    "plt.xlabel('Steps')\n",
    "plt.ylabel('Regret')\n",
    "plt.title('Env - Red Bus/Blue Bus Paradox - Regret')\n",
    "# plt.xscale('log')\n",
    "# plt.yscale('log')\n",
    "# plt.ylim(0.1, 55)\n",
    "# plt.xlim(1, 1000)\n",
    "plt.legend(ncol=3)\n",
    "plt.savefig('figure_bbrb_regret.pdf', bbox_inches = \"tight\")\n",
    "plt.show()\n",
    "\n",
    "plt.figure(figsize=(9,4), dpi= 100, facecolor='w', edgecolor='k')\n",
    "\n",
    "for idx, exp3_result in enumerate(exp3_results):  \n",
    "    # EXP3 \n",
    "    c = colors_new[idx]\n",
    "    exp3_regret, exp3_rgrt_std, exp3_reward, exp3_rwd_std = exp3_result\n",
    "    plt.plot(rounds, exp3_reward, label='EXP3 - N {}'.format(nb_childs[idx]), color=c, linestyle='-', \n",
    "             marker=markers[idx] , markersize=12 ,markevery=5)\n",
    "    \n",
    "for idx, new_result in enumerate(new_results):       \n",
    "    # NEW \n",
    "    c = colors_new[idx]\n",
    "    new_regret, new_rgrt_std, new_reward, new_rwd_std = new_result\n",
    "    plt.plot(rounds, new_reward, label='NEW - N {}'.format(nb_childs[idx]), color=c, linestyle='--', \n",
    "             marker=markers[idx] , markersize=12 ,markevery=5)\n",
    "    \n",
    "for idx, nexp3_result in enumerate(nexp3_results):       \n",
    "    # NEXP3\n",
    "    c = colors_nexp3[idx]\n",
    "    nexp3_regret, nexp3_rgrt_std, nexp3_reward, nexp3_rwd_std = nexp3_result\n",
    "    plt.plot(rounds, nexp3_reward, label='NEXP3 - N {}'.format(nb_childs[idx]), color=c, linestyle='--', \n",
    "             marker=markers[idx] , markersize=12 ,markevery=5)\n",
    "      \n",
    "plt.xlabel('Steps')\n",
    "plt.ylabel('Average Reward')\n",
    "plt.title('Env - Red Bus/Blue Bus Paradox - Average Reward')\n",
    "plt.legend(ncol=3)\n",
    "plt.savefig('figure_bbrb_avg_reward.pdf', bbox_inches = \"tight\")\n",
    "\n",
    "# fig.suptitle(\"Env - Blue Bus Red Bus Paradox\", fontsize=14)\n",
    "plt.show()"
   ]
  },
  {
   "cell_type": "code",
   "execution_count": 10,
   "id": "e36384d3",
   "metadata": {},
   "outputs": [],
   "source": [
    "nb_rds = 20\n",
    "max_rounds = 10000\n",
    "\n",
    "def do_general_tree_experiment(nb_levels, nb_leaves_per_class):\n",
    "\n",
    "    exp3_regrets = np.zeros((nb_rds, int(max_rounds/100)))\n",
    "    exp3_rewards = np.zeros((nb_rds, int(max_rounds/100)))\n",
    "    new_regrets = np.zeros((nb_rds, int(max_rounds/100)))\n",
    "    new_rewards = np.zeros((nb_rds, int(max_rounds/100)))\n",
    "    nexp3_regrets = np.zeros((nb_rds, int(max_rounds/100)))\n",
    "    nexp3_rewards = np.zeros((nb_rds, int(max_rounds/100)))\n",
    "    \n",
    "    for rd in range(nb_rds):\n",
    "        settings = {\n",
    "            'rd': rd,\n",
    "            'max_rounds': max_rounds,\n",
    "            'nb_leaves_per_class': nb_leaves_per_class,\n",
    "            'nb_levels': nb_levels,\n",
    "            'env': 'general',\n",
    "            'algo': 'exp3'\n",
    "        }\n",
    "        \n",
    "        print('Running experiment with rnd seed {}, nb levels {}, nb leaves per class {}'.format(rd, nb_levels, nb_leaves_per_class))\n",
    "        \n",
    "        \n",
    "        metrics = do_single_experiment(rd, settings)\n",
    "        rounds = metrics['round']\n",
    "        exp3_regrets[rd] = metrics['regret']\n",
    "        exp3_rewards[rd] = metrics['reward']\n",
    "        \n",
    "        settings['algo'] = 'new'\n",
    "        metrics = do_single_experiment(rd, settings)\n",
    "        rounds = metrics['round']\n",
    "        new_regrets[rd] = metrics['regret']\n",
    "        new_rewards[rd] = metrics['reward']\n",
    "\n",
    "        settings['algo'] = 'nexp3'\n",
    "        metrics = do_single_experiment(rd, settings)\n",
    "        rounds = metrics['round']\n",
    "        nexp3_regrets[rd] = metrics['regret']\n",
    "        nexp3_rewards[rd] = metrics['reward']\n",
    "\n",
    "    # EXP3\n",
    "    exp3_rgrt_std = np.std(exp3_regrets, axis=0)\n",
    "    exp3_rwd_std = np.std(exp3_rewards, axis=0)\n",
    "    exp3_regret = np.mean(exp3_regrets, axis=0)\n",
    "    exp3_reward = np.mean(exp3_rewards, axis=0)\n",
    "    \n",
    "    exp3_result = (exp3_regret, exp3_rgrt_std, exp3_reward, exp3_rwd_std)\n",
    "\n",
    "    # new\n",
    "    new_rgrt_std = np.std(new_regrets, axis=0)\n",
    "    new_rwd_std = np.std(new_rewards, axis=0)\n",
    "    new_regret = np.mean(new_regrets, axis=0) \n",
    "    new_reward = np.mean(new_rewards, axis=0)\n",
    "    \n",
    "    new_result = (new_regret, new_rgrt_std, new_reward, new_rwd_std)\n",
    "\n",
    "    # nexp3\n",
    "    nexp3_rgrt_std = np.std(nexp3_regrets, axis=0)\n",
    "    nexp3_rwd_std = np.std(nexp3_rewards, axis=0)\n",
    "    nexp3_regret = np.mean(nexp3_regrets, axis=0) \n",
    "    nexp3_reward = np.mean(nexp3_rewards, axis=0)\n",
    "    \n",
    "    nexp3_result = (nexp3_regret, nexp3_rgrt_std, nexp3_reward, nexp3_rwd_std)\n",
    "    \n",
    "    return exp3_result, new_result, nexp3_result, list(np.array(exp3_regrets)[:,-1]), list(np.array(new_regrets)[:,-1]), list(np.array(nexp3_regrets)[:,-1])"
   ]
  },
  {
   "cell_type": "code",
   "execution_count": null,
   "id": "ddaf9ac1",
   "metadata": {},
   "outputs": [
    {
     "name": "stdout",
     "output_type": "stream",
     "text": [
      "Running experiment with rnd seed 0, nb levels 2, nb leaves per class 50\n"
     ]
    },
    {
     "name": "stderr",
     "output_type": "stream",
     "text": [
      "100%|██████████| 10000/10000 [00:01<00:00, 5942.49it/s]\n",
      "100%|██████████| 10000/10000 [00:01<00:00, 9477.50it/s]\n",
      "100%|██████████| 10000/10000 [00:10<00:00, 916.49it/s]\n"
     ]
    },
    {
     "name": "stdout",
     "output_type": "stream",
     "text": [
      "Running experiment with rnd seed 1, nb levels 2, nb leaves per class 50\n"
     ]
    },
    {
     "name": "stderr",
     "output_type": "stream",
     "text": [
      "100%|██████████| 10000/10000 [00:01<00:00, 5973.82it/s]\n",
      "100%|██████████| 10000/10000 [00:01<00:00, 9352.28it/s]\n",
      "100%|██████████| 10000/10000 [00:10<00:00, 925.35it/s]\n"
     ]
    },
    {
     "name": "stdout",
     "output_type": "stream",
     "text": [
      "Running experiment with rnd seed 2, nb levels 2, nb leaves per class 50\n"
     ]
    },
    {
     "name": "stderr",
     "output_type": "stream",
     "text": [
      "100%|██████████| 10000/10000 [00:01<00:00, 5559.58it/s]\n",
      "100%|██████████| 10000/10000 [00:01<00:00, 8818.67it/s]\n",
      "100%|██████████| 10000/10000 [00:11<00:00, 898.47it/s]\n"
     ]
    },
    {
     "name": "stdout",
     "output_type": "stream",
     "text": [
      "Running experiment with rnd seed 3, nb levels 2, nb leaves per class 50\n"
     ]
    },
    {
     "name": "stderr",
     "output_type": "stream",
     "text": [
      "100%|██████████| 10000/10000 [00:01<00:00, 5748.49it/s]\n",
      "100%|██████████| 10000/10000 [00:01<00:00, 9972.74it/s]\n",
      "100%|██████████| 10000/10000 [00:10<00:00, 910.20it/s]\n"
     ]
    },
    {
     "name": "stdout",
     "output_type": "stream",
     "text": [
      "Running experiment with rnd seed 4, nb levels 2, nb leaves per class 50\n"
     ]
    },
    {
     "name": "stderr",
     "output_type": "stream",
     "text": [
      "100%|██████████| 10000/10000 [00:01<00:00, 5917.40it/s]\n",
      "100%|██████████| 10000/10000 [00:01<00:00, 9419.44it/s]\n",
      "100%|██████████| 10000/10000 [00:11<00:00, 906.92it/s]\n"
     ]
    },
    {
     "name": "stdout",
     "output_type": "stream",
     "text": [
      "Running experiment with rnd seed 5, nb levels 2, nb leaves per class 50\n"
     ]
    },
    {
     "name": "stderr",
     "output_type": "stream",
     "text": [
      "100%|██████████| 10000/10000 [00:01<00:00, 5842.84it/s]\n",
      "100%|██████████| 10000/10000 [00:01<00:00, 9705.14it/s]\n",
      "100%|██████████| 10000/10000 [00:11<00:00, 907.04it/s]\n"
     ]
    },
    {
     "name": "stdout",
     "output_type": "stream",
     "text": [
      "Running experiment with rnd seed 6, nb levels 2, nb leaves per class 50\n"
     ]
    },
    {
     "name": "stderr",
     "output_type": "stream",
     "text": [
      "100%|██████████| 10000/10000 [00:01<00:00, 5937.09it/s]\n",
      "100%|██████████| 10000/10000 [00:01<00:00, 9719.06it/s]\n",
      "100%|██████████| 10000/10000 [00:10<00:00, 915.31it/s]\n"
     ]
    },
    {
     "name": "stdout",
     "output_type": "stream",
     "text": [
      "Running experiment with rnd seed 7, nb levels 2, nb leaves per class 50\n"
     ]
    },
    {
     "name": "stderr",
     "output_type": "stream",
     "text": [
      "100%|██████████| 10000/10000 [00:01<00:00, 5816.52it/s]\n",
      "100%|██████████| 10000/10000 [00:01<00:00, 9825.64it/s]\n",
      "100%|██████████| 10000/10000 [00:11<00:00, 901.18it/s]\n"
     ]
    },
    {
     "name": "stdout",
     "output_type": "stream",
     "text": [
      "Running experiment with rnd seed 8, nb levels 2, nb leaves per class 50\n"
     ]
    },
    {
     "name": "stderr",
     "output_type": "stream",
     "text": [
      "100%|██████████| 10000/10000 [00:01<00:00, 5821.79it/s]\n",
      "100%|██████████| 10000/10000 [00:01<00:00, 9831.73it/s]\n",
      "100%|██████████| 10000/10000 [00:10<00:00, 910.73it/s]\n"
     ]
    },
    {
     "name": "stdout",
     "output_type": "stream",
     "text": [
      "Running experiment with rnd seed 9, nb levels 2, nb leaves per class 50\n"
     ]
    },
    {
     "name": "stderr",
     "output_type": "stream",
     "text": [
      "100%|██████████| 10000/10000 [00:01<00:00, 5920.45it/s]\n",
      "100%|██████████| 10000/10000 [00:01<00:00, 9248.74it/s]\n",
      "100%|██████████| 10000/10000 [00:10<00:00, 917.93it/s]\n"
     ]
    },
    {
     "name": "stdout",
     "output_type": "stream",
     "text": [
      "Running experiment with rnd seed 10, nb levels 2, nb leaves per class 50\n"
     ]
    },
    {
     "name": "stderr",
     "output_type": "stream",
     "text": [
      "100%|██████████| 10000/10000 [00:01<00:00, 5840.64it/s]\n",
      "100%|██████████| 10000/10000 [00:00<00:00, 13452.65it/s]\n",
      "100%|██████████| 10000/10000 [00:10<00:00, 917.44it/s]\n"
     ]
    },
    {
     "name": "stdout",
     "output_type": "stream",
     "text": [
      "Running experiment with rnd seed 11, nb levels 2, nb leaves per class 50\n"
     ]
    },
    {
     "name": "stderr",
     "output_type": "stream",
     "text": [
      "100%|██████████| 10000/10000 [00:01<00:00, 6175.82it/s]\n",
      "100%|██████████| 10000/10000 [00:01<00:00, 9318.57it/s]\n",
      "100%|██████████| 10000/10000 [00:10<00:00, 916.81it/s]\n"
     ]
    },
    {
     "name": "stdout",
     "output_type": "stream",
     "text": [
      "Running experiment with rnd seed 12, nb levels 2, nb leaves per class 50\n"
     ]
    },
    {
     "name": "stderr",
     "output_type": "stream",
     "text": [
      "100%|██████████| 10000/10000 [00:01<00:00, 6052.47it/s]\n",
      "100%|██████████| 10000/10000 [00:01<00:00, 9220.42it/s]\n",
      "100%|██████████| 10000/10000 [00:10<00:00, 914.95it/s]\n"
     ]
    },
    {
     "name": "stdout",
     "output_type": "stream",
     "text": [
      "Running experiment with rnd seed 13, nb levels 2, nb leaves per class 50\n"
     ]
    },
    {
     "name": "stderr",
     "output_type": "stream",
     "text": [
      "100%|██████████| 10000/10000 [00:01<00:00, 5937.68it/s]\n",
      "100%|██████████| 10000/10000 [00:01<00:00, 9435.41it/s]\n",
      "100%|██████████| 10000/10000 [00:10<00:00, 912.99it/s]\n"
     ]
    },
    {
     "name": "stdout",
     "output_type": "stream",
     "text": [
      "Running experiment with rnd seed 14, nb levels 2, nb leaves per class 50\n"
     ]
    },
    {
     "name": "stderr",
     "output_type": "stream",
     "text": [
      "100%|██████████| 10000/10000 [00:01<00:00, 5796.00it/s]\n",
      "100%|██████████| 10000/10000 [00:01<00:00, 9488.79it/s]\n",
      "100%|██████████| 10000/10000 [00:10<00:00, 909.96it/s]\n"
     ]
    },
    {
     "name": "stdout",
     "output_type": "stream",
     "text": [
      "Running experiment with rnd seed 15, nb levels 2, nb leaves per class 50\n"
     ]
    },
    {
     "name": "stderr",
     "output_type": "stream",
     "text": [
      "100%|██████████| 10000/10000 [00:01<00:00, 5957.80it/s]\n",
      "100%|██████████| 10000/10000 [00:01<00:00, 9721.19it/s]\n",
      "100%|██████████| 10000/10000 [00:10<00:00, 914.01it/s]\n"
     ]
    },
    {
     "name": "stdout",
     "output_type": "stream",
     "text": [
      "Running experiment with rnd seed 16, nb levels 2, nb leaves per class 50\n"
     ]
    },
    {
     "name": "stderr",
     "output_type": "stream",
     "text": [
      "100%|██████████| 10000/10000 [00:01<00:00, 5975.99it/s]\n",
      "100%|██████████| 10000/10000 [00:01<00:00, 9560.65it/s]\n",
      "100%|██████████| 10000/10000 [00:10<00:00, 914.86it/s]\n"
     ]
    },
    {
     "name": "stdout",
     "output_type": "stream",
     "text": [
      "Running experiment with rnd seed 17, nb levels 2, nb leaves per class 50\n"
     ]
    },
    {
     "name": "stderr",
     "output_type": "stream",
     "text": [
      "100%|██████████| 10000/10000 [00:01<00:00, 5956.60it/s]\n",
      "100%|██████████| 10000/10000 [00:01<00:00, 9424.91it/s]\n",
      "100%|██████████| 10000/10000 [00:10<00:00, 909.59it/s]\n"
     ]
    },
    {
     "name": "stdout",
     "output_type": "stream",
     "text": [
      "Running experiment with rnd seed 18, nb levels 2, nb leaves per class 50\n"
     ]
    },
    {
     "name": "stderr",
     "output_type": "stream",
     "text": [
      "100%|██████████| 10000/10000 [00:01<00:00, 6082.87it/s]\n",
      "100%|██████████| 10000/10000 [00:01<00:00, 9750.55it/s]\n",
      "100%|██████████| 10000/10000 [00:10<00:00, 909.71it/s]\n"
     ]
    },
    {
     "name": "stdout",
     "output_type": "stream",
     "text": [
      "Running experiment with rnd seed 19, nb levels 2, nb leaves per class 50\n"
     ]
    },
    {
     "name": "stderr",
     "output_type": "stream",
     "text": [
      "100%|██████████| 10000/10000 [00:01<00:00, 5762.48it/s]\n",
      "100%|██████████| 10000/10000 [00:01<00:00, 9909.41it/s]\n",
      "100%|██████████| 10000/10000 [00:11<00:00, 904.45it/s]\n"
     ]
    },
    {
     "name": "stdout",
     "output_type": "stream",
     "text": [
      "Running experiment with rnd seed 0, nb levels 2, nb leaves per class 100\n"
     ]
    },
    {
     "name": "stderr",
     "output_type": "stream",
     "text": [
      "100%|██████████| 10000/10000 [00:04<00:00, 2183.96it/s]\n",
      "100%|██████████| 10000/10000 [00:01<00:00, 9623.47it/s]\n",
      "100%|██████████| 10000/10000 [01:15<00:00, 132.48it/s]\n"
     ]
    },
    {
     "name": "stdout",
     "output_type": "stream",
     "text": [
      "Running experiment with rnd seed 1, nb levels 2, nb leaves per class 100\n"
     ]
    },
    {
     "name": "stderr",
     "output_type": "stream",
     "text": [
      "100%|██████████| 10000/10000 [00:04<00:00, 2157.01it/s]\n",
      "100%|██████████| 10000/10000 [00:01<00:00, 9700.06it/s]\n",
      "100%|██████████| 10000/10000 [01:15<00:00, 131.87it/s]\n"
     ]
    },
    {
     "name": "stdout",
     "output_type": "stream",
     "text": [
      "Running experiment with rnd seed 2, nb levels 2, nb leaves per class 100\n"
     ]
    },
    {
     "name": "stderr",
     "output_type": "stream",
     "text": [
      "100%|██████████| 10000/10000 [00:04<00:00, 2165.02it/s]\n",
      "100%|██████████| 10000/10000 [00:01<00:00, 9621.41it/s]\n",
      "100%|██████████| 10000/10000 [01:14<00:00, 133.77it/s]\n"
     ]
    },
    {
     "name": "stdout",
     "output_type": "stream",
     "text": [
      "Running experiment with rnd seed 3, nb levels 2, nb leaves per class 100\n"
     ]
    },
    {
     "name": "stderr",
     "output_type": "stream",
     "text": [
      "100%|██████████| 10000/10000 [00:04<00:00, 2179.94it/s]\n",
      "100%|██████████| 10000/10000 [00:01<00:00, 8921.49it/s]\n",
      "100%|██████████| 10000/10000 [01:15<00:00, 132.02it/s]\n"
     ]
    },
    {
     "name": "stdout",
     "output_type": "stream",
     "text": [
      "Running experiment with rnd seed 4, nb levels 2, nb leaves per class 100\n"
     ]
    },
    {
     "name": "stderr",
     "output_type": "stream",
     "text": [
      "100%|██████████| 10000/10000 [00:04<00:00, 2349.66it/s]\n",
      "100%|██████████| 10000/10000 [00:00<00:00, 15292.04it/s]\n",
      "100%|██████████| 10000/10000 [01:16<00:00, 130.55it/s]\n"
     ]
    },
    {
     "name": "stdout",
     "output_type": "stream",
     "text": [
      "Running experiment with rnd seed 5, nb levels 2, nb leaves per class 100\n"
     ]
    },
    {
     "name": "stderr",
     "output_type": "stream",
     "text": [
      "100%|██████████| 10000/10000 [00:04<00:00, 2290.95it/s]\n",
      "100%|██████████| 10000/10000 [00:00<00:00, 13646.79it/s]\n",
      " 76%|███████▌  | 7564/10000 [00:58<00:18, 133.96it/s]"
     ]
    }
   ],
   "source": [
    "settings = [(2, 50), (2, 100), (2, 200)]\n",
    "res_nexp3 = []\n",
    "res_new = []\n",
    "res_exp3 = []\n",
    "res=[]\n",
    "labels=[]\n",
    "exp3_results = []\n",
    "new_results = []\n",
    "nexp3_results = []\n",
    "\n",
    "for setting in settings:\n",
    "    nb_levels, nb_leaves_per_class = setting\n",
    "    exp3_result, new_result, nexp3_result, a,b,c = do_general_tree_experiment(nb_levels, nb_leaves_per_class)\n",
    "    exp3_results.append(exp3_result)\n",
    "    new_results.append(new_result)\n",
    "    res_exp3.append((a))\n",
    "    res_new.append(b)\n",
    "    res_nexp3.append(c)\n",
    "    res.append(a)\n",
    "    res.append(b)\n",
    "    res.append(c)\n",
    "    labels.append('EXP3 - L {}, M {}'.format(nb_levels, nb_leaves_per_class))\n",
    "    labels.append('NEW - L {}, M {}'.format(nb_levels, nb_leaves_per_class))\n",
    "    labels.append('NEXP3 - L {}, M {}'.format(nb_levels, nb_leaves_per_class))"
   ]
  },
  {
   "cell_type": "code",
   "execution_count": null,
   "id": "7818b5d2",
   "metadata": {},
   "outputs": [],
   "source": [
    "plt.figure(figsize=(20,8))\n",
    "plt.boxplot(res, labels=labels)\n",
    "plt.ylabel('Regret')\n",
    "plt.title('Env - Tree Structure - Final Regret CIs at $T=10000$')\n",
    "plt.legend(ncol=2)\n",
    "plt.savefig('figure_general_regret_breadth_slice.pdf', bbox_inches = \"tight\")\n",
    "plt.show()"
   ]
  },
  {
   "cell_type": "code",
   "execution_count": null,
   "id": "00c46e31",
   "metadata": {},
   "outputs": [],
   "source": [
    "rounds = np.arange(1, max_rounds+1, 100)\n",
    "\n",
    "colors_exp3 = ['lightsteelblue', 'cornflowerblue', 'royalblue', '#1f77b4']\n",
    "colors_new = ['lightgreen', 'limegreen', 'forestgreen', 'darkgreen']\n",
    "colors_nexp3 = ['#ff7f0e', 'tomato', 'peru', 'gold']\n",
    "# colors_new = ['#ff7f0e', 'tomato', 'peru', 'gold']\n",
    "# colors_new = ['lightgreen', 'limegreen', 'forestgreen', 'darkgreen', 'darkcyan', 'darkslategrey']\n",
    "\n",
    "\n",
    "\n",
    "settings = [(2, 50), (2, 100), (2, 200)]\n",
    "markers = ['-', '--']\n",
    "markers = [\"1\", \"2\", \"3\", \"4\"]\n",
    "# markers = [\"*\", \"+\", \".\", \"v\"]\n",
    "\n",
    "plt.figure(figsize=(9,4), dpi= 100, facecolor='w', edgecolor='k')\n",
    "for idx, exp3_result in enumerate(exp3_results):\n",
    "    # EXP3 \n",
    "    c = colors_exp3[idx]\n",
    "    exp3_regret, exp3_rgrt_std, exp3_reward, exp3_rwd_std = exp3_result\n",
    "    plt.plot(rounds, exp3_regret, label='EXP3 - L {}, M {}'.format(settings[idx][0], settings[idx][1]), color=c, linestyle='-',\n",
    "             marker=markers[idx] , markersize=12 ,markevery=5)\n",
    "# plt.plot(rounds, rounds**(0.5), label='$t^{0.5}$', ls='-.')     \n",
    "for idx, new_result in enumerate(new_results[:3]):\n",
    "    # new\n",
    "    c = colors_exp3[idx]\n",
    "    new_regret, new_rgrt_std, new_reward, new_rwd_std = new_result\n",
    "    plt.plot(rounds, new_regret, label='NEW - L {}, M {}'.format(settings[idx][0], settings[idx][1]), color=c, linestyle='--',\n",
    "             marker=markers[idx] , markersize=12 ,markevery=5)\n",
    "    \n",
    "for idx, nexp3_result in enumerate(nexp3_results[:3]):\n",
    "    # nexp3\n",
    "    c = colors_exp3[idx]\n",
    "    nexp3_regret, nexp3_rgrt_std, nexp3_reward, nexp3_rwd_std = nexp3_result\n",
    "    plt.plot(rounds, nexp3_regret, label='NEXP3 - L {}, M {}'.format(settings[idx][0], settings[idx][1]), color=c, linestyle='--',\n",
    "             marker=markers[idx] , markersize=12 ,markevery=5)\n",
    "\n",
    "\n",
    "# plt.xscale('log')\n",
    "# plt.yscale('log')\n",
    "plt.ylabel('Regret')\n",
    "plt.title('Env - Tree Structure - Regret')\n",
    "plt.legend(ncol=2)\n",
    "plt.savefig('figure_general_regret_breadth.pdf', bbox_inches = \"tight\")\n",
    "plt.show()\n",
    "\n",
    "plt.figure(figsize=(9,4), dpi= 100, facecolor='w', edgecolor='k')\n",
    "\n",
    "for idx, exp3_result in enumerate(exp3_results):\n",
    "    \n",
    "    # EXP3 \n",
    "    c = colors_exp3[idx]\n",
    "    exp3_regret, exp3_rgrt_std, exp3_reward, exp3_rwd_std = exp3_result\n",
    "    plt.plot(rounds, exp3_reward, label='EXP3 - L {}, M {}'.format(settings[idx][0], settings[idx][1]), color=c, linestyle='-',\n",
    "             marker=markers[idx] , markersize=12 ,markevery=5)\n",
    "    \n",
    "for idx, new_result in enumerate(new_results):\n",
    "        \n",
    "    # new \n",
    "    c = colors_exp3[idx]\n",
    "    new_regret, new_rgrt_std, new_reward, new_rwd_std = new_result\n",
    "    plt.plot(rounds, new_reward, label='NEW - L {}, M {}'.format(settings[idx][0], settings[idx][1]), color=c, linestyle='--',\n",
    "             marker=markers[idx] , markersize=12 ,markevery=5)\n",
    "    \n",
    "    \n",
    "for idx, new_result in enumerate(nexp3_results):\n",
    "        \n",
    "    # nexp3 \n",
    "    c = colors_exp3[idx]\n",
    "    nexp3_regret, nexp3_rgrt_std, nexp3_reward, nexp3_rwd_std = nexp3_result\n",
    "    plt.plot(rounds, nexp3_reward, label='NEXP3 - L {}, M {}'.format(settings[idx][0], settings[idx][1]), color=c, linestyle='--',\n",
    "             marker=markers[idx] , markersize=12 ,markevery=5)\n",
    "\n",
    "plt.xlabel('Steps')\n",
    "plt.ylabel('Average Reward')\n",
    "plt.title('Env - Tree Structure - Average Reward')\n",
    "plt.legend(ncol=2)\n",
    "plt.savefig('figure_general_avg_reward_breadth.pdf', bbox_inches = \"tight\")\n",
    "\n",
    "# fig.suptitle(\"Env - Blue Bus Red Bus Paradox\", fontsize=14)\n",
    "plt.show()"
   ]
  },
  {
   "cell_type": "code",
   "execution_count": null,
   "id": "5a642f4e",
   "metadata": {},
   "outputs": [],
   "source": [
    "settings = [(4, 3), (5, 3), (6, 3)]\n",
    "res_nexp3 = []\n",
    "res_new = []\n",
    "res_exp3 = []\n",
    "res=[]\n",
    "labels=[]\n",
    "exp3_results = []\n",
    "new_results = []\n",
    "nexp3_results = []\n",
    "\n",
    "\n",
    "for setting in tqdm(settings):\n",
    "    nb_levels, nb_leaves_per_class = setting\n",
    "    exp3_result, new_result, nexp3_result, a, b, c = do_general_tree_experiment(nb_levels, nb_leaves_per_class)\n",
    "    exp3_results.append(exp3_result)\n",
    "    new_results.append(new_result)\n",
    "    nexp3_results.append(nexp3_result)\n",
    "    res_exp3.append(a)\n",
    "    res_new.append(b)\n",
    "    res_nexp3.append(c)\n",
    "    res.append(a)\n",
    "    res.append(b)\n",
    "    res.append(c)\n",
    "    labels.append('EXP3 - L {}, M {}'.format(nb_levels, nb_leaves_per_class))\n",
    "    labels.append('NEW - L {}, M {}'.format(nb_levels, nb_leaves_per_class))\n",
    "    labels.append('NEXP3 - L {}, M {}'.format(nb_levels, nb_leaves_per_class))"
   ]
  },
  {
   "cell_type": "code",
   "execution_count": null,
   "id": "d1dc3f9d",
   "metadata": {},
   "outputs": [],
   "source": [
    "rounds = np.arange(1, max_rounds+1, 100)\n",
    "\n",
    "#COLORS\n",
    "colors_exp3 = ['lightsteelblue', 'cornflowerblue', 'royalblue', '#1f77b4']\n",
    "colors_new = ['lightgreen', 'limegreen', 'forestgreen', 'darkgreen']\n",
    "colors_nexp3 = ['#ff7f0e', 'tomato', 'peru', 'gold']\n",
    "\n",
    "#PARAMETERS\n",
    "settings = [(4, 3), (5, 3), (6, 3)]\n",
    "markers = ['-', '--']\n",
    "markers = [\"1\", \"2\", \"3\", \"4\"]\n",
    "\n",
    "\n",
    "plt.figure(figsize=(9,4), dpi= 100, facecolor='w', edgecolor='k')\n",
    "for idx, exp3_result in enumerate(exp3_results):\n",
    "    # EXP3 \n",
    "    c = colors_exp3[idx]\n",
    "    exp3_regret, exp3_rgrt_std, exp3_reward, exp3_rwd_std = exp3_result\n",
    "    plt.plot(rounds, exp3_regret, label='EXP3 - L {}, M {}'.format(settings[idx][0], settings[idx][1]), color=c, linestyle='-', \n",
    "             marker=markers[idx] , markersize=12 ,markevery=5)\n",
    "# plt.plot(rounds, .5*rounds**(0.5), label='$t^{0.5}$', linestyle='-.')    \n",
    "for idx, new_result in enumerate(new_results[:3]):\n",
    "    # new\n",
    "    c = colors_exp3[idx]\n",
    "    new_regret, new_rgrt_std, new_reward, new_rwd_std = new_result\n",
    "    plt.plot(rounds, new_regret, label='NEW - L {}, M {}'.format(settings[idx][0], settings[idx][1]), color=c, linestyle='--', \n",
    "             marker=markers[idx] , markersize=12 ,markevery=5)\n",
    "    \n",
    "for idx, new_result in enumerate(nexp3_results[:3]):\n",
    "    # nexp3\n",
    "    c = colors_nexp3[idx]\n",
    "    nexp3_regret, nexp3_rgrt_std, nexp3_reward, nexp3_rwd_std = nexp3_result\n",
    "    plt.plot(rounds, nexp3_regret, label='NEW - L {}, M {}'.format(settings[idx][0], settings[idx][1]), color=c, linestyle='--', \n",
    "             marker=markers[idx] , markersize=12 ,markevery=5)\n",
    "\n",
    "# plt.xscale('log')\n",
    "# plt.yscale('log')\n",
    "plt.ylabel('Regret')\n",
    "plt.title('Env - Tree Structure - Regret')\n",
    "plt.legend(ncol=2)\n",
    "plt.savefig('figure_general_regret_depth.pdf', bbox_inches = \"tight\")\n",
    "plt.show()\n",
    "\n",
    "plt.figure(figsize=(9,4), dpi= 100, facecolor='w', edgecolor='k')\n",
    "\n",
    "for idx, exp3_result in enumerate(exp3_results):\n",
    "    \n",
    "    # EXP3 \n",
    "    c = colors_exp3[idx]\n",
    "    exp3_regret, exp3_rgrt_std, exp3_reward, exp3_rwd_std = exp3_result\n",
    "    plt.plot(rounds, exp3_reward, label='EXP3 - L {}, M {}'.format(settings[idx][0], settings[idx][1]), color=c, linestyle='-',\n",
    "             marker=markers[idx] , markersize=12 ,markevery=5)\n",
    "    \n",
    "for idx, new_result in enumerate(new_results):\n",
    "        \n",
    "    # new \n",
    "    c = colors_exp3[idx]\n",
    "    new_regret, new_rgrt_std, new_reward, new_rwd_std = new_result\n",
    "    plt.plot(rounds, new_reward, label='NEW - L {}, M {}'.format(settings[idx][0], settings[idx][1]), color=c, linestyle='--',\n",
    "             marker=markers[idx] , markersize=12 ,markevery=5)\n",
    "    \n",
    "    # nexp3 \n",
    "    c = colors_nexp3[idx]\n",
    "    nexp3_regret, nexp3_rgrt_std, nexp3_reward, nexp3_rwd_std = nexp3_result\n",
    "    plt.plot(rounds, nexp3_reward, label='NEXP3 - L {}, M {}'.format(settings[idx][0], settings[idx][1]), color=c, linestyle='--',\n",
    "             marker=markers[idx] , markersize=12 ,markevery=5)\n",
    "      \n",
    "plt.xlabel('Steps')\n",
    "plt.ylabel('Average Reward')\n",
    "plt.title('Env - Tree Structure - Average Reward')\n",
    "plt.legend(ncol=2)\n",
    "plt.savefig('figure_general_avg_reward_depth.pdf', bbox_inches = \"tight\")\n",
    "\n",
    "# fig.suptitle(\"Env - Blue Bus Red Bus Paradox\", fontsize=14)\n",
    "plt.show()"
   ]
  },
  {
   "cell_type": "code",
   "execution_count": null,
   "id": "9ff0d2e7",
   "metadata": {},
   "outputs": [],
   "source": [
    "settings = [(1, 5), (1, 10), (1, 50)]\n",
    "exp3_results = []\n",
    "new_results = []\n",
    "nexp3_results = []\n",
    "res=[]\n",
    "labels=[]\n",
    "\n",
    "\n",
    "for setting in tqdm(settings):\n",
    "    nb_levels, nb_leaves_per_class = setting\n",
    "    exp3_result, new_result, nexp3_result, a, b, c = do_general_tree_experiment(nb_levels, nb_leaves_per_class)\n",
    "    exp3_results.append(exp3_result)\n",
    "    new_results.append(new_result)\n",
    "    nexp3_results.append(new_result)\n",
    "    res_exp3.append(a)\n",
    "    res_new.append(b)\n",
    "    res_nexp3.append(c)\n",
    "    res.append(a)\n",
    "    res.append(b)\n",
    "    res.append(c)\n",
    "    labels.append('EXP3 - L {}, M {}'.format(nb_levels, nb_leaves_per_class))\n",
    "    labels.append('NEW - L {}, M {}'.format(nb_levels, nb_leaves_per_class))\n",
    "    labels.append('NEXP3 - L {}, M {}'.format(nb_levels, nb_leaves_per_class))"
   ]
  },
  {
   "cell_type": "code",
   "execution_count": null,
   "id": "2be944c6",
   "metadata": {},
   "outputs": [],
   "source": [
    "rounds = np.arange(1, max_rounds+1, 100)\n",
    "\n",
    "#COLORS\n",
    "colors_exp3 = ['lightsteelblue', 'cornflowerblue', 'royalblue', '#1f77b4']\n",
    "colors_new = ['lightgreen', 'limegreen', 'forestgreen', 'darkgreen']\n",
    "colors_nexp3 = ['#ff7f0e', 'tomato', 'peru', 'gold']\n",
    "\n",
    "# settings = [(5, 3), (6, 3), (7, 3)]\n",
    "markers = ['-', '--']\n",
    "markers = [\"1\", \"2\", \"3\", \"4\"]\n",
    "\n",
    "\n",
    "plt.figure(figsize=(9,4), dpi= 100, facecolor='w', edgecolor='k')\n",
    "for idx, exp3_result in enumerate(exp3_results):\n",
    "    # EXP3 \n",
    "    c = colors_exp3[idx]\n",
    "    exp3_regret, exp3_rgrt_std, exp3_reward, exp3_rwd_std = exp3_result\n",
    "    plt.plot(rounds, exp3_regret, label='EXP3 - L {}, M {}'.format(settings[idx][0], settings[idx][1]), color=c, linestyle='-', \n",
    "             marker=markers[idx] , markersize=12 ,markevery=5)\n",
    "# plt.plot(rounds, .5*rounds**(0.5), label='$t^{0.5}$', linestyle='-.')    \n",
    "for idx, new_result in enumerate(new_results[:3]):\n",
    "    # new\n",
    "    c = colors_exp3[idx]\n",
    "    new_regret, new_rgrt_std, new_reward, new_rwd_std = new_result\n",
    "    plt.plot(rounds, new_regret, label='NEW - L {}, M {}'.format(settings[idx][0], settings[idx][1]), color=c, linestyle='--', \n",
    "             marker=markers[idx] , markersize=12 ,markevery=5)\n",
    "    \n",
    "for idx, nexp3_result in enumerate(nexp3_results[:3]):\n",
    "    # nexp3\n",
    "    c = colors_nexp3[idx]\n",
    "    nexp3_regret, nexp3_rgrt_std, nexp3_reward, nexp3_rwd_std = nexp3_result\n",
    "    plt.plot(rounds, nexp3_regret, label='NEXP3 - L {}, M {}'.format(settings[idx][0], settings[idx][1]), color=c, linestyle='--', \n",
    "             marker=markers[idx] , markersize=12 ,markevery=5)\n",
    "\n",
    "# plt.xscale('log')\n",
    "# plt.yscale('log')\n",
    "plt.ylabel('Regret')\n",
    "plt.title('Env - Tree Structure - Regret')\n",
    "plt.legend(ncol=2)\n",
    "plt.savefig('figure_general_regret_depth2.pdf', bbox_inches = \"tight\")\n",
    "plt.show()\n",
    "\n",
    "plt.figure(figsize=(9,4), dpi= 100, facecolor='w', edgecolor='k')\n",
    "\n",
    "for idx, exp3_result in enumerate(exp3_results):\n",
    "    \n",
    "    # EXP3 \n",
    "    c = colors_exp3[idx]\n",
    "    exp3_regret, exp3_rgrt_std, exp3_reward, exp3_rwd_std = exp3_result\n",
    "    plt.plot(rounds, exp3_reward, label='EXP3 - L {}, M {}'.format(settings[idx][0], settings[idx][1]), color=c, linestyle='-',\n",
    "             marker=markers[idx] , markersize=12 ,markevery=5)\n",
    "    \n",
    "for idx, new_result in enumerate(new_results):\n",
    "        \n",
    "    # new \n",
    "    c = colors_exp3[idx]\n",
    "    new_regret, new_rgrt_std, new_reward, new_rwd_std = new_result\n",
    "    plt.plot(rounds, new_reward, label='NEW - L {}, M {}'.format(settings[idx][0], settings[idx][1]), color=c, linestyle='--',\n",
    "             marker=markers[idx] , markersize=12 ,markevery=5)\n",
    "    \n",
    "for idx, nexp3_result in enumerate(nexp3_results):\n",
    "        \n",
    "    # nexp3\n",
    "    c = colors_exp3[idx]\n",
    "    nexp3_regret, nexp3_rgrt_std, nexp3_reward, nexp3_rwd_std = nexp3_result\n",
    "    plt.plot(rounds, new_reward, label='NEXP3 - L {}, M {}'.format(settings[idx][0], settings[idx][1]), color=c, linestyle='--',\n",
    "             marker=markers[idx] , markersize=12 ,markevery=5)\n",
    "      \n",
    "plt.xlabel('Steps')\n",
    "plt.ylabel('Average Reward')\n",
    "plt.title('Env - Tree Structure - Average Reward')\n",
    "plt.legend(ncol=2)\n",
    "plt.savefig('figure_general_avg_reward_depth2.pdf', bbox_inches = \"tight\")\n",
    "\n",
    "# fig.suptitle(\"Env - Blue Bus Red Bus Paradox\", fontsize=14)\n",
    "plt.show()"
   ]
  },
  {
   "cell_type": "code",
   "execution_count": null,
   "id": "fa5cf7fa",
   "metadata": {},
   "outputs": [],
   "source": []
  }
 ],
 "metadata": {
  "kernelspec": {
   "display_name": "Python 3",
   "language": "python",
   "name": "python3"
  },
  "language_info": {
   "codemirror_mode": {
    "name": "ipython",
    "version": 3
   },
   "file_extension": ".py",
   "mimetype": "text/x-python",
   "name": "python",
   "nbconvert_exporter": "python",
   "pygments_lexer": "ipython3",
   "version": "3.9.6"
  }
 },
 "nbformat": 4,
 "nbformat_minor": 5
}
